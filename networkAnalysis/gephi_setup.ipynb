{
 "cells": [
  {
   "cell_type": "code",
   "execution_count": 1,
   "id": "df5125f5-6823-422c-b5f7-ffde86c0838e",
   "metadata": {},
   "outputs": [],
   "source": [
    "import pandas as pd"
   ]
  },
  {
   "cell_type": "code",
   "execution_count": 2,
   "id": "bd77468c-7448-4deb-9d32-34e5bfc65289",
   "metadata": {},
   "outputs": [],
   "source": [
    "# male_edges = pd.read_csv(\"/home/aghasemi/summer23_aylab/networkAnalysis/centrality_score/male_edges.csv\")\n",
    "# male_nodes = pd.read_csv(\"/home/aghasemi/summer23_aylab/networkAnalysis/centrality_score/male_nodes.csv\")\n",
    "\n",
    "# female_edges = pd.read_csv(\"/home/aghasemi/summer23_aylab/networkAnalysis/centrality_score/female_edges.csv\")\n",
    "# female_nodes = pd.read_csv(\"/home/aghasemi/summer23_aylab/networkAnalysis/centrality_score/female_nodes.csv\")\n",
    "\n",
    "overall_edges = pd.read_csv(\"/home/aghasemi/summer23_aylab/networkAnalysis/centrality_score/overall_edges.csv\")\n",
    "overall_nodes = pd.read_csv(\"/home/aghasemi/summer23_aylab/networkAnalysis/centrality_score/overall_nodes.csv\")"
   ]
  },
  {
   "cell_type": "code",
   "execution_count": 3,
   "id": "b038896d-abc2-43ed-aa8a-9948dd5e6775",
   "metadata": {},
   "outputs": [],
   "source": [
    "# male_nodes.rename(columns={'SNP': 'Id'}, inplace=True)\n",
    "# male_nodes[\"Label\"] = male_nodes[\"Id\"].copy()\n",
    "\n",
    "# female_nodes.rename(columns={'SNP': 'Id'}, inplace=True)\n",
    "# female_nodes[\"Label\"] = female_nodes[\"Id\"].copy()\n",
    "\n",
    "overall_nodes.rename(columns={'SNP': 'Id'}, inplace=True)\n",
    "overall_nodes[\"Label\"] = overall_nodes[\"Id\"].copy()"
   ]
  },
  {
   "cell_type": "code",
   "execution_count": 4,
   "id": "cb22f6b4-330d-4310-a9a4-3cbedadb85aa",
   "metadata": {},
   "outputs": [],
   "source": [
    "# mvlog_male = pd.read_csv(\"/home/aghasemi/summer23_aylab/networkAnalysis/mvlog_male_regression_results.csv\")\n",
    "# mvlog_female = pd.read_csv(\"/home/aghasemi/summer23_aylab/networkAnalysis/mvlog_female_regression_results_new.csv\")\n",
    "mvlog_overall = pd.read_csv(\"/home/aghasemi/summer23_aylab/networkAnalysis/mvlog_overall_regression_results.csv\")"
   ]
  },
  {
   "cell_type": "code",
   "execution_count": 5,
   "id": "065f8e5e-4ed1-4cb2-ba64-3eee524e3ce3",
   "metadata": {},
   "outputs": [],
   "source": [
    "selected_columns = ['variable', 'odds_ratio']\n",
    "# new_mvlog_male = mvlog_male[selected_columns]\n",
    "# new_mvlog_female = mvlog_female[selected_columns]\n",
    "new_mvlog_overall = mvlog_overall[selected_columns]"
   ]
  },
  {
   "cell_type": "code",
   "execution_count": 6,
   "id": "7a043299-1449-4d0b-b226-71b5726db46b",
   "metadata": {},
   "outputs": [],
   "source": [
    "unwanted_values = ['Overall_Health_Score_4.0', 'Overall_Health_Score_3.0', 'Overall_Health_Score_2.0', \n",
    "                   'Overall_Health_Score_1.0', 'const', 'Age_n', 'TSDI_n', 'Sleeplessness/Insomnia_3.0',\n",
    "                  'Sleeplessness/Insomnia_2.0', 'Sleeplessness/Insomnia_1.0', 'Chronotype_1.0', \n",
    "                  'Chronotype_2.0', 'Chronotype_3.0', 'Chronotype_4.0', 'Sex']"
   ]
  },
  {
   "cell_type": "code",
   "execution_count": 7,
   "id": "d1c1c1c1-65f4-4c9a-921b-07f190c1c089",
   "metadata": {},
   "outputs": [],
   "source": [
    "# male_filtered_df = new_mvlog_male.loc[~new_mvlog_male['variable'].isin(unwanted_values)]\n",
    "# female_filtered_df = new_mvlog_female.loc[~new_mvlog_female['variable'].isin(unwanted_values)]\n",
    "overall_filtered_df = new_mvlog_overall.loc[~new_mvlog_overall['variable'].isin(unwanted_values)]"
   ]
  },
  {
   "cell_type": "code",
   "execution_count": 8,
   "id": "0b112ed2-1e52-4b8f-aa21-b27441f4fd0c",
   "metadata": {},
   "outputs": [],
   "source": [
    "# male_pair_df = male_filtered_df[male_filtered_df['variable'].str.contains('pair', case=False, na=False)]\n",
    "# female_pair_df = female_filtered_df[female_filtered_df['variable'].str.contains('pair', case=False, na=False)]\n",
    "overall_pair_df = overall_filtered_df[overall_filtered_df['variable'].str.contains('pair', case=False, na=False)]"
   ]
  },
  {
   "cell_type": "code",
   "execution_count": 9,
   "id": "638e8061-7513-4812-87b3-2357d9464594",
   "metadata": {},
   "outputs": [],
   "source": [
    "# male_single_df = male_filtered_df[~male_filtered_df['variable'].str.contains('pair', case=False, na=False)]\n",
    "# female_single_df = female_filtered_df[~female_filtered_df['variable'].str.contains('pair', case=False, na=False)]\n",
    "overall_single_df = overall_filtered_df[~overall_filtered_df['variable'].str.contains('pair', case=False, na=False)]"
   ]
  },
  {
   "cell_type": "code",
   "execution_count": 10,
   "id": "07879b8c-522c-48ae-8ebd-5b9c1c690843",
   "metadata": {},
   "outputs": [],
   "source": [
    "# male_result_dict = dict(zip(male_single_df['variable'], male_single_df['odds_ratio']))\n",
    "# female_result_dict = dict(zip(female_single_df['variable'], female_single_df['odds_ratio']))\n",
    "overall_result_dict = dict(zip(overall_single_df['variable'], overall_single_df['odds_ratio']))\n",
    "\n",
    "# male_nodes['odds_ratio'] = male_nodes['Id'].map(male_result_dict)\n",
    "# female_nodes['odds_ratio'] = female_nodes['Id'].map(female_result_dict)\n",
    "overall_nodes['odds_ratio'] = overall_nodes['Id'].map(overall_result_dict)"
   ]
  },
  {
   "cell_type": "code",
   "execution_count": 11,
   "id": "930f8174-92ae-4e59-b0c4-5bc8cd529bf5",
   "metadata": {},
   "outputs": [
    {
     "name": "stderr",
     "output_type": "stream",
     "text": [
      "/tmp/ipykernel_20929/2310525849.py:12: SettingWithCopyWarning: \n",
      "A value is trying to be set on a copy of a slice from a DataFrame.\n",
      "Try using .loc[row_indexer,col_indexer] = value instead\n",
      "\n",
      "See the caveats in the documentation: https://pandas.pydata.org/pandas-docs/stable/user_guide/indexing.html#returning-a-view-versus-a-copy\n",
      "  overall_pair_df['pairs'] = overall_split_df[0]\n",
      "/tmp/ipykernel_20929/2310525849.py:13: SettingWithCopyWarning: \n",
      "A value is trying to be set on a copy of a slice from a DataFrame.\n",
      "Try using .loc[row_indexer,col_indexer] = value instead\n",
      "\n",
      "See the caveats in the documentation: https://pandas.pydata.org/pandas-docs/stable/user_guide/indexing.html#returning-a-view-versus-a-copy\n",
      "  overall_pair_df['Source'] = overall_split_df[1]\n",
      "/tmp/ipykernel_20929/2310525849.py:14: SettingWithCopyWarning: \n",
      "A value is trying to be set on a copy of a slice from a DataFrame.\n",
      "Try using .loc[row_indexer,col_indexer] = value instead\n",
      "\n",
      "See the caveats in the documentation: https://pandas.pydata.org/pandas-docs/stable/user_guide/indexing.html#returning-a-view-versus-a-copy\n",
      "  overall_pair_df['Target'] = overall_split_df[2]\n"
     ]
    }
   ],
   "source": [
    "# male_split_df = male_pair_df['variable'].str.split(':', n=3, expand=True)\n",
    "# male_pair_df['pairs'] = male_split_df[0]\n",
    "# male_pair_df['Source'] = male_split_df[1]\n",
    "# male_pair_df['Target'] = male_split_df[2]\n",
    "\n",
    "# female_split_df = female_pair_df['variable'].str.split(':', n=3, expand=True)\n",
    "# female_pair_df['pairs'] = female_split_df[0]\n",
    "# female_pair_df['Source'] = female_split_df[1]\n",
    "# female_pair_df['Target'] = female_split_df[2]\n",
    "\n",
    "overall_split_df = overall_pair_df['variable'].str.split(':', n=3, expand=True)\n",
    "overall_pair_df['pairs'] = overall_split_df[0]\n",
    "overall_pair_df['Source'] = overall_split_df[1]\n",
    "overall_pair_df['Target'] = overall_split_df[2]"
   ]
  },
  {
   "cell_type": "code",
   "execution_count": 12,
   "id": "6d06ff64-44e8-429f-9109-e794d6071f0d",
   "metadata": {},
   "outputs": [],
   "source": [
    "def assign_factor(odds_ratio):\n",
    "    if odds_ratio < 0.9:\n",
    "        return \"Protective\"\n",
    "    elif odds_ratio > 1.1:\n",
    "        return \"Risk\"\n",
    "    else:\n",
    "        return \"Indeterminate\""
   ]
  },
  {
   "cell_type": "code",
   "execution_count": 13,
   "id": "23865463-d96d-4d74-9e59-795bd543feb7",
   "metadata": {},
   "outputs": [
    {
     "name": "stderr",
     "output_type": "stream",
     "text": [
      "/tmp/ipykernel_20929/3629073025.py:3: SettingWithCopyWarning: \n",
      "A value is trying to be set on a copy of a slice from a DataFrame.\n",
      "Try using .loc[row_indexer,col_indexer] = value instead\n",
      "\n",
      "See the caveats in the documentation: https://pandas.pydata.org/pandas-docs/stable/user_guide/indexing.html#returning-a-view-versus-a-copy\n",
      "  overall_pair_df['Factor'] = overall_pair_df['odds_ratio'].apply(assign_factor)\n"
     ]
    }
   ],
   "source": [
    "# male_pair_df['Factor'] = male_pair_df['odds_ratio'].apply(assign_factor)\n",
    "# female_pair_df['Factor'] = female_pair_df['odds_ratio'].apply(assign_factor)\n",
    "overall_pair_df['Factor'] = overall_pair_df['odds_ratio'].apply(assign_factor)"
   ]
  },
  {
   "cell_type": "code",
   "execution_count": 14,
   "id": "7d77dd53-c10b-4355-aca3-68db1e21a005",
   "metadata": {},
   "outputs": [
    {
     "name": "stderr",
     "output_type": "stream",
     "text": [
      "/tmp/ipykernel_20929/1803986551.py:3: SettingWithCopyWarning: \n",
      "A value is trying to be set on a copy of a slice from a DataFrame.\n",
      "Try using .loc[row_indexer,col_indexer] = value instead\n",
      "\n",
      "See the caveats in the documentation: https://pandas.pydata.org/pandas-docs/stable/user_guide/indexing.html#returning-a-view-versus-a-copy\n",
      "  overall_single_df['Factor'] = overall_single_df['odds_ratio'].apply(assign_factor)\n"
     ]
    }
   ],
   "source": [
    "# male_single_df['Factor'] = male_single_df['odds_ratio'].apply(assign_factor)\n",
    "# female_single_df['Factor'] = female_single_df['odds_ratio'].apply(assign_factor)\n",
    "overall_single_df['Factor'] = overall_single_df['odds_ratio'].apply(assign_factor)"
   ]
  },
  {
   "cell_type": "code",
   "execution_count": 15,
   "id": "6a0d736a-00a6-4777-81ac-69527e895de2",
   "metadata": {},
   "outputs": [],
   "source": [
    "# male_nodes = pd.merge(male_nodes, male_single_df, left_on='Id', right_on='variable', how='left')\n",
    "# male_nodes.drop(columns='variable', inplace=True)\n",
    "\n",
    "# female_nodes = pd.merge(female_nodes, female_single_df, left_on='Id', right_on='variable', how='left')\n",
    "# female_nodes.drop(columns='variable', inplace=True)\n",
    "\n",
    "overall_nodes = pd.merge(overall_nodes, overall_single_df, left_on='Id', right_on='variable', how='left')\n",
    "overall_nodes.drop(columns='variable', inplace=True)"
   ]
  },
  {
   "cell_type": "code",
   "execution_count": 16,
   "id": "42d23315-cd15-41a5-9e52-12bf0b40beaa",
   "metadata": {},
   "outputs": [],
   "source": [
    "# male_nodes.columns = male_nodes.columns.str.rstrip('_y').str.rstrip('_x')\n",
    "# male_nodes = male_nodes.loc[:, ~male_nodes.columns.duplicated()]\n",
    "\n",
    "# female_nodes.columns = female_nodes.columns.str.rstrip('_y').str.rstrip('_x')\n",
    "# female_nodes = female_nodes.loc[:, ~female_nodes.columns.duplicated()]\n",
    "\n",
    "overall_nodes.columns = overall_nodes.columns.str.rstrip('_y').str.rstrip('_x')\n",
    "overall_nodes = overall_nodes.loc[:, ~overall_nodes.columns.duplicated()]"
   ]
  },
  {
   "cell_type": "code",
   "execution_count": 17,
   "id": "3a49e73a-637e-4614-b531-0cb3eddb22fe",
   "metadata": {},
   "outputs": [],
   "source": [
    "# male_edges = pd.merge(male_edges, pair_df[['Source', 'Target', 'odds_ratio', 'Factor']], on=['Source', 'Target'], how='left')\n",
    "# female_edges = pd.merge(female_edges, female_pair_df[['Source', 'Target', 'odds_ratio', 'Factor']], on=['Source', 'Target'], how='left')\n",
    "overall_edges = pd.merge(overall_edges, overall_pair_df[['Source', 'Target', 'odds_ratio', 'Factor']], on=['Source', 'Target'], how='left')"
   ]
  },
  {
   "cell_type": "code",
   "execution_count": 18,
   "id": "a6e81d90-de54-45fc-95cf-bf1de808aa36",
   "metadata": {},
   "outputs": [],
   "source": [
    "# male_edges.to_csv(\"/home/aghasemi/summer23_aylab/networkAnalysis/final_male_edges_gephi.csv\", index=False)\n",
    "# female_edges.to_csv(\"/home/aghasemi/summer23_aylab/networkAnalysis/final_female_edges_gephi.csv\", index=False)\n",
    "overall_edges.to_csv(\"/home/aghasemi/summer23_aylab/networkAnalysis/final_overall_edges_gephi.csv\", index=False)"
   ]
  },
  {
   "cell_type": "code",
   "execution_count": 19,
   "id": "f538215b-4eea-41e1-a2c1-15ae47bb0b4c",
   "metadata": {},
   "outputs": [],
   "source": [
    "# male_nodes.to_csv(\"/home/aghasemi/summer23_aylab/networkAnalysis/final_male_nodes_gephi.csv\", index=False)\n",
    "# female_nodes.to_csv(\"/home/aghasemi/summer23_aylab/networkAnalysis/final_female_nodes_gephi.csv\", index=False)\n",
    "overall_nodes.to_csv(\"/home/aghasemi/summer23_aylab/networkAnalysis/final_overall_nodes_gephi.csv\", index=False)"
   ]
  },
  {
   "cell_type": "code",
   "execution_count": null,
   "id": "918f499d-7bc4-4682-9b36-2cd412a81f11",
   "metadata": {},
   "outputs": [],
   "source": []
  }
 ],
 "metadata": {
  "kernelspec": {
   "display_name": "Python 3 (ipykernel)",
   "language": "python",
   "name": "python3"
  },
  "language_info": {
   "codemirror_mode": {
    "name": "ipython",
    "version": 3
   },
   "file_extension": ".py",
   "mimetype": "text/x-python",
   "name": "python",
   "nbconvert_exporter": "python",
   "pygments_lexer": "ipython3",
   "version": "3.11.4"
  }
 },
 "nbformat": 4,
 "nbformat_minor": 5
}
