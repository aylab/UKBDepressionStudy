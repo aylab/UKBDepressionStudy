{
 "cells": [
  {
   "cell_type": "code",
   "execution_count": 32,
   "id": "b30f91be-2b2d-4d5d-86c4-19aab529d9e8",
   "metadata": {},
   "outputs": [],
   "source": [
    "import pandas as pd"
   ]
  },
  {
   "cell_type": "code",
   "execution_count": 33,
   "id": "dc5237e1-ecf9-4d87-8577-3e4efccfb161",
   "metadata": {},
   "outputs": [],
   "source": [
    "overall_combined_snpassoc = pd.read_csv(\"/home/aghasemi/summer23_aylab/networkAnalysis/combined_snp_assoc/freq_overall_phq9_combined_snpassoc.csv\", index_col=0)\n",
    "male_combined_snpassoc = pd.read_csv(\"/home/aghasemi/summer23_aylab/networkAnalysis/combined_snp_assoc/freq_male_phq9_combined_snpassoc.csv\", index_col=0)\n",
    "female_combined_snpassoc = pd.read_csv(\"/home/aghasemi/summer23_aylab/networkAnalysis/combined_snp_assoc/freq_female_phq9_combined_snpassoc.csv\", index_col=0)"
   ]
  },
  {
   "cell_type": "code",
   "execution_count": 34,
   "id": "609ea6fb-7572-4880-addf-8a4399bb125a",
   "metadata": {},
   "outputs": [],
   "source": [
    "female_combined_snpassoc = female_combined_snpassoc[~female_combined_snpassoc['SNP1'].str.endswith('_y')]\n",
    "female_combined_snpassoc = female_combined_snpassoc[~female_combined_snpassoc['SNP2'].str.endswith('_y')]\n",
    "\n",
    "female_combined_snpassoc['SNP1'] = female_combined_snpassoc['SNP1'].str.rstrip('_x')\n",
    "female_combined_snpassoc['SNP2'] = female_combined_snpassoc['SNP2'].str.rstrip('_x')"
   ]
  },
  {
   "cell_type": "code",
   "execution_count": 35,
   "id": "5bb5f529-d325-4be9-ab65-82621ba413c6",
   "metadata": {},
   "outputs": [],
   "source": [
    "male_combined_snpassoc = male_combined_snpassoc[~male_combined_snpassoc['SNP1'].str.endswith('_y')]\n",
    "male_combined_snpassoc = male_combined_snpassoc[~male_combined_snpassoc['SNP2'].str.endswith('_y')]\n",
    "\n",
    "male_combined_snpassoc['SNP1'] = male_combined_snpassoc['SNP1'].str.rstrip('_x')\n",
    "male_combined_snpassoc['SNP2'] = male_combined_snpassoc['SNP2'].str.rstrip('_x')"
   ]
  },
  {
   "cell_type": "code",
   "execution_count": 36,
   "id": "a68f1d4e-f44f-47ae-a465-148c8c23c6aa",
   "metadata": {},
   "outputs": [],
   "source": [
    "overall_combined_snpassoc = overall_combined_snpassoc[~overall_combined_snpassoc['SNP1'].str.endswith('_y')]\n",
    "overall_combined_snpassoc = overall_combined_snpassoc[~overall_combined_snpassoc['SNP2'].str.endswith('_y')]\n",
    "\n",
    "overall_combined_snpassoc['SNP1'] = overall_combined_snpassoc['SNP1'].str.rstrip('_x')\n",
    "overall_combined_snpassoc['SNP2'] = overall_combined_snpassoc['SNP2'].str.rstrip('_x')"
   ]
  },
  {
   "cell_type": "code",
   "execution_count": 37,
   "id": "b651d4bf-c170-47f8-8191-aeea68cd9a1f",
   "metadata": {},
   "outputs": [],
   "source": [
    "female_combined_snpassoc.to_csv(\"/home/aghasemi/summer23_aylab/networkAnalysis/combined_snp_assoc/female_combined_snpassoc_nodup.csv\", index=False)\n",
    "male_combined_snpassoc.to_csv(\"/home/aghasemi/summer23_aylab/networkAnalysis/combined_snp_assoc/male_combined_snpassoc_nodup.csv\", index=False)\n",
    "overall_combined_snpassoc.to_csv(\"/home/aghasemi/summer23_aylab/networkAnalysis/combined_snp_assoc/overall_combined_snpassoc_nodup.csv\", index=False)"
   ]
  }
 ],
 "metadata": {
  "kernelspec": {
   "display_name": "Python 3 (ipykernel)",
   "language": "python",
   "name": "python3"
  },
  "language_info": {
   "codemirror_mode": {
    "name": "ipython",
    "version": 3
   },
   "file_extension": ".py",
   "mimetype": "text/x-python",
   "name": "python",
   "nbconvert_exporter": "python",
   "pygments_lexer": "ipython3",
   "version": "3.11.4"
  }
 },
 "nbformat": 4,
 "nbformat_minor": 5
}
