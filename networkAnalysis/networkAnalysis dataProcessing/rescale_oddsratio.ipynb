{
 "cells": [
  {
   "cell_type": "code",
   "execution_count": 2,
   "id": "c7a54188-2578-45fc-887a-072a86ef3170",
   "metadata": {},
   "outputs": [],
   "source": [
    "import pandas as pd"
   ]
  },
  {
   "cell_type": "code",
   "execution_count": 3,
   "id": "c01ceff7-f1d1-4395-b20f-0f5da4289556",
   "metadata": {},
   "outputs": [],
   "source": [
    "female_edges = pd.read_csv(\"/home/aghasemi/summer23_aylab/networkAnalysis/Gephi/female_edges_gephi.csv\")\n",
    "female_nodes = pd.read_csv(\"/home/aghasemi/summer23_aylab/networkAnalysis/Gephi/female_nodes_gephi.csv\")\n",
    "male_edges = pd.read_csv(\"/home/aghasemi/summer23_aylab/networkAnalysis/Gephi/male_edges_gephi.csv\")\n",
    "male_nodes = pd.read_csv(\"/home/aghasemi/summer23_aylab/networkAnalysis/Gephi/male_nodes_gephi.csv\")\n",
    "overall_edges = pd.read_csv(\"/home/aghasemi/summer23_aylab/networkAnalysis/Gephi/overall_edges_gephi.csv\")\n",
    "overall_nodes = pd.read_csv(\"/home/aghasemi/summer23_aylab/networkAnalysis/Gephi/overall_nodes_gephi.csv\")"
   ]
  },
  {
   "cell_type": "code",
   "execution_count": 6,
   "id": "36566c8c-feac-4b56-9ab8-4c34495a9ffb",
   "metadata": {},
   "outputs": [],
   "source": [
    "def calculate_corrected_odds_ratio(value):\n",
    "    if value < 1:\n",
    "        return 1 / value\n",
    "    return value\n",
    "\n",
    "female_edges['Odds Ratio Corrected'] = female_edges['Odds Ratio'].apply(calculate_corrected_odds_ratio)\n",
    "female_nodes['Odds Ratio Corrected'] = female_nodes['Odds Ratio'].apply(calculate_corrected_odds_ratio)\n",
    "\n",
    "male_edges['Odds Ratio Corrected'] = male_edges['Odds Ratio'].apply(calculate_corrected_odds_ratio)\n",
    "male_nodes['Odds Ratio Corrected'] = male_nodes['Odds Ratio'].apply(calculate_corrected_odds_ratio)\n",
    "\n",
    "overall_edges['Odds Ratio Corrected'] = overall_edges['Odds Ratio'].apply(calculate_corrected_odds_ratio)\n",
    "overall_nodes['Odds Ratio Corrected'] = overall_nodes['Odds Ratio'].apply(calculate_corrected_odds_ratio)"
   ]
  },
  {
   "cell_type": "code",
   "execution_count": 7,
   "id": "f87ff22b-82f7-434e-9f10-fb6f514f0871",
   "metadata": {},
   "outputs": [],
   "source": [
    "female_edges.to_csv(\"/home/aghasemi/summer23_aylab/networkAnalysis/Gephi/female_edges_gephi_corrected.csv\", index=False)\n",
    "female_nodes.to_csv(\"/home/aghasemi/summer23_aylab/networkAnalysis/Gephi/female_nodes_gephi_corrected.csv\", index=False)\n",
    "\n",
    "male_edges.to_csv(\"/home/aghasemi/summer23_aylab/networkAnalysis/Gephi/male_edges_gephi_corrected.csv\", index=False)\n",
    "male_nodes.to_csv(\"/home/aghasemi/summer23_aylab/networkAnalysis/Gephi/male_nodes_gephi_corrected.csv\", index=False)\n",
    "\n",
    "overall_edges.to_csv(\"/home/aghasemi/summer23_aylab/networkAnalysis/Gephi/overall_edges_gephi_corrected.csv\", index=False)\n",
    "overall_nodes.to_csv(\"/home/aghasemi/summer23_aylab/networkAnalysis/Gephi/overall_nodes_gephi_corrected.csv\", index=False)"
   ]
  },
  {
   "cell_type": "code",
   "execution_count": null,
   "id": "dd66a602-4d05-43a6-9cfc-f37abb9354ad",
   "metadata": {},
   "outputs": [],
   "source": []
  }
 ],
 "metadata": {
  "kernelspec": {
   "display_name": "Python 3 (ipykernel)",
   "language": "python",
   "name": "python3"
  },
  "language_info": {
   "codemirror_mode": {
    "name": "ipython",
    "version": 3
   },
   "file_extension": ".py",
   "mimetype": "text/x-python",
   "name": "python",
   "nbconvert_exporter": "python",
   "pygments_lexer": "ipython3",
   "version": "3.11.4"
  }
 },
 "nbformat": 4,
 "nbformat_minor": 5
}
